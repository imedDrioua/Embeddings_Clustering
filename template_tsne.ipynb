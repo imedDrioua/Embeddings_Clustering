{
  "cells": [
    {
      "cell_type": "code",
      "source": [
        "! pip install -U sentence-transformers"
      ],
      "metadata": {
        "id": "v8Lk10QfV5ZS"
      },
      "id": "v8Lk10QfV5ZS",
      "execution_count": null,
      "outputs": []
    },
    {
      "cell_type": "code",
      "execution_count": 4,
      "id": "c9eaaaa3",
      "metadata": {
        "id": "c9eaaaa3"
      },
      "outputs": [],
      "source": [
        "from sklearn.datasets import fetch_20newsgroups\n",
        "from sklearn.metrics.cluster import normalized_mutual_info_score, adjusted_rand_score\n",
        "from sentence_transformers import SentenceTransformer\n",
        "import numpy as np\n",
        "from sklearn.manifold import TSNE\n",
        "'''\n",
        "Variables:\n",
        "---------\n",
        "\n",
        "corpus : list of documents\n",
        "embeddings : documents embeddings of size NxM (N : number of documents, M : embedding dimension)\n",
        "red_emd : reduced embeddings matrix using dimentionality reduction\n",
        "k : number of clusters\n",
        "labels : documents labels\n",
        "pred : list of clustering predicted clusters\n",
        "\n",
        "''';"
      ]
    },
    {
      "cell_type": "code",
      "execution_count": 1,
      "id": "e77a0f00",
      "metadata": {
        "id": "e77a0f00"
      },
      "outputs": [],
      "source": [
        "def dim_red(mat, p):\n",
        "    '''\n",
        "    Perform dimensionality reduction\n",
        "\n",
        "    Input:\n",
        "    -----\n",
        "        mat : NxM list\n",
        "        p : number of dimensions to keep\n",
        "    Output:\n",
        "    ------\n",
        "        red_mat : NxP list such that p<<m\n",
        "    '''\n",
        "\n",
        "    tsne = TSNE(n_components=p, random_state=42)\n",
        "    red_mat= tsne.fit_transform(mat)\n",
        "\n",
        "    return red_mat"
      ]
    },
    {
      "cell_type": "code",
      "execution_count": 5,
      "id": "9f2ae938",
      "metadata": {
        "id": "9f2ae938"
      },
      "outputs": [],
      "source": [
        "def clust(mat, k):\n",
        "    '''\n",
        "    Perform clustering\n",
        "\n",
        "    Input:\n",
        "    -----\n",
        "        mat : input list\n",
        "        k : number of cluster\n",
        "    Output:\n",
        "    ------\n",
        "        pred : list of predicted labels\n",
        "    '''\n",
        "\n",
        "    pred = np.random.randint(k, size=len(mat))\n",
        "\n",
        "    return pred"
      ]
    },
    {
      "cell_type": "code",
      "source": [
        "# import data\n",
        "ng20 = fetch_20newsgroups(subset='test')\n",
        "corpus = ng20.data[:2000]\n",
        "labels = ng20.target[:2000]\n",
        "k = len(set(labels))\n",
        "\n",
        "# embedding\n",
        "model = SentenceTransformer('paraphrase-MiniLM-L6-v2')\n",
        "embeddings = model.encode(corpus)"
      ],
      "metadata": {
        "id": "_6b7NsxkWuQH"
      },
      "id": "_6b7NsxkWuQH",
      "execution_count": null,
      "outputs": []
    },
    {
      "cell_type": "code",
      "execution_count": 7,
      "id": "a7ca9d2f",
      "metadata": {
        "colab": {
          "base_uri": "https://localhost:8080/"
        },
        "id": "a7ca9d2f",
        "outputId": "46242b7f-50ff-4f33-d858-cb7cc7c595ba"
      },
      "outputs": [
        {
          "output_type": "stream",
          "name": "stdout",
          "text": [
            "NMI: 0.03 \n",
            "ARI: 0.00\n"
          ]
        }
      ],
      "source": [
        "# perform dimentionality reduction\n",
        "red_emb = dim_red(embeddings, 3)\n",
        "\n",
        "# perform clustering\n",
        "pred = clust(red_emb, k)\n",
        "\n",
        "# evaluate clustering results\n",
        "nmi_score = normalized_mutual_info_score(pred,labels)\n",
        "ari_score = adjusted_rand_score(pred,labels)\n",
        "\n",
        "print(f'NMI: {nmi_score:.2f} \\nARI: {ari_score:.2f}')\n"
      ]
    }
  ],
  "metadata": {
    "kernelspec": {
      "display_name": "Python 3 (ipykernel)",
      "language": "python",
      "name": "python3"
    },
    "language_info": {
      "codemirror_mode": {
        "name": "ipython",
        "version": 3
      },
      "file_extension": ".py",
      "mimetype": "text/x-python",
      "name": "python",
      "nbconvert_exporter": "python",
      "pygments_lexer": "ipython3",
      "version": "3.7.9"
    },
    "colab": {
      "provenance": []
    }
  },
  "nbformat": 4,
  "nbformat_minor": 5
}
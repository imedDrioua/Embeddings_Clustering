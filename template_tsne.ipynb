{
 "cells": [
  {
   "cell_type": "code",
   "execution_count": null,
   "id": "v8Lk10QfV5ZS",
   "metadata": {
    "id": "v8Lk10QfV5ZS"
   },
   "outputs": [],
   "source": [
    "! pip install -U sentence-transformers"
   ]
  },
  {
   "cell_type": "code",
   "execution_count": 14,
   "id": "c9eaaaa3",
   "metadata": {
    "id": "c9eaaaa3"
   },
   "outputs": [],
   "source": [
    "from sklearn.datasets import fetch_20newsgroups\n",
    "from sklearn.metrics.cluster import normalized_mutual_info_score, adjusted_rand_score\n",
    "from sentence_transformers import SentenceTransformer\n",
    "import numpy as np\n",
    "from sklearn.manifold import TSNE\n",
    "from sklearn.cluster import KMeans\n",
    "from sklearn.cluster import SpectralClustering\n",
    "'''\n",
    "Variables:\n",
    "---------\n",
    "\n",
    "corpus : list of documents\n",
    "embeddings : documents embeddings of size NxM (N : number of documents, M : embedding dimension)\n",
    "red_emd : reduced embeddings matrix using dimentionality reduction\n",
    "k : number of clusters\n",
    "labels : documents labels\n",
    "pred : list of clustering predicted clusters\n",
    "\n",
    "''';"
   ]
  },
  {
   "cell_type": "code",
   "execution_count": 1,
   "id": "e77a0f00",
   "metadata": {
    "id": "e77a0f00"
   },
   "outputs": [],
   "source": [
    "def dim_red(mat, p):\n",
    "    '''\n",
    "    Perform dimensionality reduction\n",
    "\n",
    "    Input:\n",
    "    -----\n",
    "        mat : NxM list\n",
    "        p : number of dimensions to keep\n",
    "    Output:\n",
    "    ------\n",
    "        red_mat : NxP list such that p<<m\n",
    "    '''\n",
    "\n",
    "    tsne = TSNE(n_components=p, random_state=42)\n",
    "    red_mat= tsne.fit_transform(mat)\n",
    "\n",
    "    return red_mat"
   ]
  },
  {
   "cell_type": "code",
   "execution_count": 8,
   "id": "9f2ae938",
   "metadata": {
    "id": "9f2ae938"
   },
   "outputs": [],
   "source": [
    "def clust(mat, k):\n",
    "    '''\n",
    "    Perform clustering\n",
    "\n",
    "    Input:\n",
    "    -----\n",
    "        mat : input list\n",
    "        k : number of cluster\n",
    "    Output:\n",
    "    ------\n",
    "        pred : list of predicted labels\n",
    "    '''\n",
    "    kmeans = KMeans(n_clusters=k, random_state=42)\n",
    "    pred= kmeans.fit_predict(mat)\n",
    "\n",
    "    return pred"
   ]
  },
  {
   "cell_type": "code",
   "execution_count": null,
   "id": "_6b7NsxkWuQH",
   "metadata": {
    "id": "_6b7NsxkWuQH"
   },
   "outputs": [],
   "source": [
    "# import data\n",
    "ng20 = fetch_20newsgroups(subset='test')\n",
    "corpus = ng20.data[:2000]\n",
    "labels = ng20.target[:2000]\n",
    "k = len(set(labels))\n",
    "\n",
    "# embedding\n",
    "model = SentenceTransformer('paraphrase-MiniLM-L6-v2')\n",
    "embeddings = model.encode(corpus)"
   ]
  },
  {
   "cell_type": "code",
   "execution_count": 12,
   "id": "a7ca9d2f",
   "metadata": {
    "colab": {
     "base_uri": "https://localhost:8080/"
    },
    "id": "a7ca9d2f",
    "outputId": "4eeb1361-fd90-4e4c-a43d-cf6238644132"
   },
   "outputs": [
    {
     "name": "stdout",
     "output_type": "stream",
     "text": [
      "NMI: 0.41 \n",
      "ARI: 0.24\n"
     ]
    },
    {
     "name": "stderr",
     "output_type": "stream",
     "text": [
      "/usr/local/lib/python3.10/dist-packages/sklearn/cluster/_kmeans.py:870: FutureWarning: The default value of `n_init` will change from 10 to 'auto' in 1.4. Set the value of `n_init` explicitly to suppress the warning\n",
      "  warnings.warn(\n"
     ]
    }
   ],
   "source": [
    "# perform dimentionality reduction\n",
    "red_emb = dim_red(embeddings, 3)\n",
    "\n",
    "# perform clustering\n",
    "pred = clust(red_emb, k)\n",
    "\n",
    "# evaluate clustering results\n",
    "nmi_score = normalized_mutual_info_score(pred,labels)\n",
    "ari_score = adjusted_rand_score(pred,labels)\n",
    "\n",
    "print(f'NMI: {nmi_score:.2f} \\nARI: {ari_score:.2f}')\n"
   ]
  },
  {
   "cell_type": "code",
   "execution_count": null,
   "id": "OqBcwGy8ajyW",
   "metadata": {
    "id": "OqBcwGy8ajyW"
   },
   "outputs": [],
   "source": [
    "from sklearn.datasets import fetch_20newsgroups\n",
    "from sklearn.metrics.cluster import normalized_mutual_info_score, adjusted_rand_score\n",
    "from sentence_transformers import SentenceTransformer\n",
    "import numpy as np\n",
    "from sklearn.manifold import TSNE\n",
    "from sklearn.cluster import KMeans\n",
    "import prince\n",
    "import pandas as pd\n",
    "\n",
    "\n",
    "def dim_red(mat, p, method):\n",
    "    '''\n",
    "    Perform dimensionality reduction\n",
    "\n",
    "    Input:\n",
    "    -----\n",
    "        mat : NxM list\n",
    "        p : number of dimensions to keep\n",
    "    Output:\n",
    "    ------\n",
    "        red_mat : NxP list such that p<<m\n",
    "    '''\n",
    "    if method=='ACP':\n",
    "        mat=pd.DataFrame(mat)\n",
    "        acp = prince.PCA(n_components=p)\n",
    "        red_mat = acp.fit_transform(mat)\n",
    "\n",
    "    elif method=='TSNE':\n",
    "        p=3\n",
    "        tsne = TSNE(n_components=p, random_state=42)\n",
    "        red_mat= tsne.fit_transform(mat)\n",
    "\n",
    "    elif method=='UMAP':\n",
    "        red_mat = umap.UMAP(n_components=p).fit_transform(mat)\n",
    "\n",
    "    else:\n",
    "        raise Exception(\"Please select one of the three methods : APC, AFC, UMAP\")\n",
    "\n",
    "    return red_mat\n",
    "\n",
    "\n",
    "def clust(mat, k):\n",
    "    '''\n",
    "    Perform clustering\n",
    "\n",
    "    Input:\n",
    "    -----\n",
    "        mat : input list\n",
    "        k : number of cluster\n",
    "    Output:\n",
    "    ------\n",
    "        pred : list of predicted labels\n",
    "    '''\n",
    "\n",
    "\n",
    "    kmeans = KMeans(n_clusters=k)\n",
    "    pred = kmeans.fit_predict(mat)\n",
    "\n",
    "\n",
    "    return pred\n",
    "\n",
    "# import data\n",
    "ng20 = fetch_20newsgroups(subset='test')\n",
    "corpus = ng20.data[:2000]\n",
    "labels = ng20.target[:2000]\n",
    "k = len(set(labels))\n",
    "\n",
    "# embedding\n",
    "model = SentenceTransformer('paraphrase-MiniLM-L6-v2')\n",
    "embeddings = model.encode(corpus)\n",
    "\n",
    "# Perform dimensionality reduction and clustering for each method\n",
    "methods = ['ACP', 'TSNE', 'UMAP']\n",
    "for method in methods:\n",
    "    # Perform dimensionality reduction\n",
    "    red_emb = dim_red(embeddings, 2, method)\n",
    "\n",
    "    # Perform clustering\n",
    "    pred = clust(red_emb, k)\n",
    "\n",
    "    # Evaluate clustering results\n",
    "    nmi_score = normalized_mutual_info_score(pred, labels)\n",
    "    ari_score = adjusted_rand_score(pred, labels)\n",
    "\n",
    "    # Print results\n",
    "    print(f'Method: {method}\\nNMI: {nmi_score:.2f} \\nARI: {ari_score:.2f}\\n')\n"
   ]
  },
  {
   "cell_type": "code",
   "execution_count": 15,
   "id": "X3gKcsFZaoCg",
   "metadata": {
    "id": "X3gKcsFZaoCg"
   },
   "outputs": [],
   "source": [
    "def clust_spherical_kmeans(mat, k):\n",
    "    '''\n",
    "    Perform clustering\n",
    "\n",
    "    Input:\n",
    "    -----\n",
    "        mat : input list\n",
    "        k : number of cluster\n",
    "    Output:\n",
    "    ------\n",
    "        pred : list of predicted labels\n",
    "    '''\n",
    "    spherical_kmeans = SpectralClustering(n_clusters=3, affinity='nearest_neighbors')\n",
    "    pred= spherical_kmeans.fit_predict(mat)\n",
    "\n",
    "    return pred"
   ]
  }
 ],
 "metadata": {
  "colab": {
   "provenance": []
  },
  "kernelspec": {
   "display_name": "Python 3 (ipykernel)",
   "language": "python",
   "name": "python3"
  },
  "language_info": {
   "codemirror_mode": {
    "name": "ipython",
    "version": 3
   },
   "file_extension": ".py",
   "mimetype": "text/x-python",
   "name": "python",
   "nbconvert_exporter": "python",
   "pygments_lexer": "ipython3",
   "version": "3.11.6"
  }
 },
 "nbformat": 4,
 "nbformat_minor": 5
}
